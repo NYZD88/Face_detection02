{
 "cells": [
  {
   "cell_type": "code",
   "execution_count": 3,
   "id": "98026170",
   "metadata": {},
   "outputs": [],
   "source": [
    "import face_recognition as fr\n",
    "import cv2\n",
    "import numpy as np"
   ]
  },
  {
   "cell_type": "code",
   "execution_count": 4,
   "id": "1392eb24",
   "metadata": {},
   "outputs": [],
   "source": [
    "image = fr.load_image_file('nooshin.jpg')"
   ]
  },
  {
   "cell_type": "code",
   "execution_count": 5,
   "id": "71de5827",
   "metadata": {},
   "outputs": [
    {
     "name": "stdout",
     "output_type": "stream",
     "text": [
      "[(98, 407, 284, 221)]\n"
     ]
    }
   ],
   "source": [
    "locate = fr.face_locations(image)\n",
    "print(locate)"
   ]
  },
  {
   "cell_type": "code",
   "execution_count": 6,
   "id": "bf1747f9",
   "metadata": {},
   "outputs": [],
   "source": [
    "image2 = cv2.cvtColor(image, cv2.COLOR_RGB2BGR)\n",
    "image2 = cv2.rectangle(image2, (locate[0][3], locate[0][0]), (locate[0][1], locate[0][2]), (255,0,0),2)\n",
    "\n",
    "image2 = cv2.resize(image2, (450 , 283))\n"
   ]
  },
  {
   "cell_type": "code",
   "execution_count": 7,
   "id": "16a20014",
   "metadata": {},
   "outputs": [
    {
     "data": {
      "text/plain": [
       "283"
      ]
     },
     "execution_count": 7,
     "metadata": {},
     "output_type": "execute_result"
    }
   ],
   "source": [
    "image2.shape[0]"
   ]
  },
  {
   "cell_type": "code",
   "execution_count": 8,
   "id": "dec5af6d",
   "metadata": {},
   "outputs": [],
   "source": [
    "face_speed = fr.face_encodings(image)[0]"
   ]
  },
  {
   "cell_type": "code",
   "execution_count": 9,
   "id": "fa228dba",
   "metadata": {},
   "outputs": [
    {
     "data": {
      "text/plain": [
       "<function destroyAllWindows>"
      ]
     },
     "execution_count": 9,
     "metadata": {},
     "output_type": "execute_result"
    }
   ],
   "source": [
    "imagetest=fr.load_image_file('n1.jpg')\n",
    "cv2.imshow('image', imagetest)\n",
    "cv2.waitKey(0)\n",
    "cv2.destroyAllWindows"
   ]
  },
  {
   "cell_type": "code",
   "execution_count": 10,
   "id": "b9800de9",
   "metadata": {},
   "outputs": [],
   "source": [
    "imagetest_encode=fr.face_encodings(imagetest)[0]"
   ]
  },
  {
   "cell_type": "code",
   "execution_count": 11,
   "id": "a88df23e",
   "metadata": {},
   "outputs": [],
   "source": [
    "result=fr.compare_faces([face_speed],imagetest_encode)"
   ]
  },
  {
   "cell_type": "code",
   "execution_count": 12,
   "id": "5cb86b15",
   "metadata": {},
   "outputs": [
    {
     "name": "stdout",
     "output_type": "stream",
     "text": [
      "[True]\n"
     ]
    }
   ],
   "source": [
    "print(result)"
   ]
  },
  {
   "cell_type": "code",
   "execution_count": 13,
   "id": "269b5d90",
   "metadata": {},
   "outputs": [],
   "source": [
    "cap = cv2.VideoCapture(0)\n",
    "_,img = cap.read()"
   ]
  },
  {
   "cell_type": "code",
   "execution_count": null,
   "id": "d561db67",
   "metadata": {},
   "outputs": [],
   "source": [
    "while True:\n",
    "\n",
    "    _,img = cap.read()\n",
    "\n",
    "    img2 = cv2.cvtColor(img, cv2.COLOR_BGR2RGB)\n",
    "    locate = fr.face_locations(img2)\n",
    "\n",
    "    if (len(locate))>0:\n",
    "\n",
    "        \n",
    "        img = cv2.rectangle(img, (locate[0][3], locate[0][0]), (locate[0][1], locate[0][2]), (255,0,0),2)\n",
    "\n",
    "\n",
    "        encode = fr.face_encodings(img2) \n",
    "        result=fr.compare_faces([face_speed],encode[0])\n",
    "\n",
    "        if result[0] == True:\n",
    "            cv2.putText(img, \"Nooshin\", (locate[0][3] + 6, locate[0][0] - 6), cv2.FONT_HERSHEY_SIMPLEX, 1.0, (0,255,0), 1)\n",
    "        else:\n",
    "                    cv2.putText(img, \"Face Unknown\", (locate[0][3] + 6, locate[0][0] - 6), cv2.FONT_HERSHEY_SIMPLEX, 1.0, (0,255,0), 1)\n",
    "\n",
    "\n",
    "        cv2.imshow('image', img)\n",
    "        if cv2.waitKey(1) & 0xFF == ord('q'):\n",
    "            break\n",
    "\n",
    "\n",
    "cap.release()\n",
    "cv2.destroyAllWindows()"
   ]
  }
 ],
 "metadata": {
  "kernelspec": {
   "display_name": "Python 3",
   "language": "python",
   "name": "python3"
  },
  "language_info": {
   "codemirror_mode": {
    "name": "ipython",
    "version": 3
   },
   "file_extension": ".py",
   "mimetype": "text/x-python",
   "name": "python",
   "nbconvert_exporter": "python",
   "pygments_lexer": "ipython3",
   "version": "3.8.8"
  }
 },
 "nbformat": 4,
 "nbformat_minor": 5
}
